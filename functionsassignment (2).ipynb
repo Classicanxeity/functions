{
  "nbformat": 4,
  "nbformat_minor": 0,
  "metadata": {
    "colab": {
      "provenance": []
    },
    "kernelspec": {
      "name": "python3",
      "display_name": "Python 3"
    },
    "language_info": {
      "name": "python"
    }
  },
  "cells": [
    {
      "cell_type": "markdown",
      "source": [
        "1. What is the difference between a function and a method in Python?\n",
        "\n",
        "-->Defined using def, works independently.\n",
        "\n",
        " A function that belongs to an object (called with .).\n",
        "\n",
        "\n",
        "\n",
        "\n",
        "\n",
        "\n",
        "\n",
        "\n",
        "\n",
        "\n",
        "\n",
        "\n",
        "\n",
        "\n",
        "\n",
        "\n",
        "\n"
      ],
      "metadata": {
        "id": "WzzFJS8Z2deh"
      }
    },
    {
      "cell_type": "markdown",
      "source": [],
      "metadata": {
        "id": "_184e-gd5-dj"
      }
    },
    {
      "cell_type": "code",
      "source": [
        "#Example:\n",
        "\n",
        "def add(a, b):   # Function\n",
        "    return a + b\n",
        "\n",
        "text = \"hello\"\n",
        "print(text.upper())   # upper() is a method\n",
        "\n",
        "\n"
      ],
      "metadata": {
        "colab": {
          "base_uri": "https://localhost:8080/"
        },
        "id": "zSrJazVS5-n7",
        "outputId": "ca3802b0-745f-4961-a379-b7d729eb52bf"
      },
      "execution_count": 101,
      "outputs": [
        {
          "output_type": "stream",
          "name": "stdout",
          "text": [
            "HELLO\n"
          ]
        }
      ]
    },
    {
      "cell_type": "markdown",
      "source": [
        "\n",
        "2. . Explain the concept of function arguments and parameters in Python.\n",
        "\n",
        "--> Variable in function definition.\n",
        "\n",
        " Actual value passed to function.\n"
      ],
      "metadata": {
        "id": "yYwUpSHm5vmL"
      }
    },
    {
      "cell_type": "code",
      "source": [
        "#Example:\n",
        "\n",
        "def greet(name):  # 'name' is parameter\n",
        "    print(\"Hello\", name)\n",
        "\n",
        "greet(\"Prem\")    # \"Prem\" is argument"
      ],
      "metadata": {
        "colab": {
          "base_uri": "https://localhost:8080/"
        },
        "id": "xlx2785k5681",
        "outputId": "e72ddb5d-f675-4f61-c2f8-907f786b8b08"
      },
      "execution_count": 102,
      "outputs": [
        {
          "output_type": "stream",
          "name": "stdout",
          "text": [
            "Hello Prem\n"
          ]
        }
      ]
    },
    {
      "cell_type": "markdown",
      "source": [
        "\n",
        "3.  What are the different ways to define and call a function in Python?\n",
        "\n",
        "-->Normal def function.\n",
        "\n",
        "With default parameters.\n",
        "\n",
        "With *args (variable arguments).\n",
        "\n",
        "With **kwargs (keyword arguments).\n",
        "\n",
        "\n"
      ],
      "metadata": {
        "id": "Jg4QZQgB5xIW"
      }
    },
    {
      "cell_type": "code",
      "source": [
        "\n",
        "#Example:\n",
        "\n",
        "def f1(): print(\"Hi\")\n",
        "def f2(a=10): print(a)\n",
        "def f3(*nums): print(nums)\n",
        "def f4(**info): print(info)\n",
        "\n",
        "f1()\n",
        "f2()\n",
        "f3(1,2,3)\n",
        "f4(name=\"Prem\", age=20)"
      ],
      "metadata": {
        "colab": {
          "base_uri": "https://localhost:8080/"
        },
        "id": "gWAoutgq5wHB",
        "outputId": "dc9d8129-87f4-4f46-9907-4d442a60cd14"
      },
      "execution_count": 103,
      "outputs": [
        {
          "output_type": "stream",
          "name": "stdout",
          "text": [
            "Hi\n",
            "10\n",
            "(1, 2, 3)\n",
            "{'name': 'Prem', 'age': 20}\n"
          ]
        }
      ]
    },
    {
      "cell_type": "markdown",
      "source": [
        "4.  What is the purpose of the `return` statement in a Python function?\n",
        "\n",
        "-->Sends result back to caller. Ends function execution."
      ],
      "metadata": {
        "id": "rrwyt_0_5rbr"
      }
    },
    {
      "cell_type": "code",
      "source": [
        "\n",
        "#Example:\n",
        "\n",
        "def square(x):\n",
        "    return x * x\n",
        "\n",
        "print(square(5))  # 25\n"
      ],
      "metadata": {
        "colab": {
          "base_uri": "https://localhost:8080/"
        },
        "id": "pe0ZQkEN5pnt",
        "outputId": "2bd1695f-5e9b-4351-a571-da1e14bae337"
      },
      "execution_count": 104,
      "outputs": [
        {
          "output_type": "stream",
          "name": "stdout",
          "text": [
            "25\n"
          ]
        }
      ]
    },
    {
      "cell_type": "markdown",
      "source": [
        "5.  What are iterators in Python and how do they differ from iterables?\n",
        "\n",
        "-->\n",
        "Iterable: Objects you can loop over (list, string, tuple).\n",
        "\n",
        "Iterator: Produces one element at a time using next()."
      ],
      "metadata": {
        "id": "QBqqgB_Q5fbq"
      }
    },
    {
      "cell_type": "code",
      "source": [
        "\n",
        "#Example:\n",
        "\n",
        "nums = [1,2,3]   # Iterable\n",
        "it = iter(nums)  # Iterator\n",
        "print(next(it))  # 1"
      ],
      "metadata": {
        "colab": {
          "base_uri": "https://localhost:8080/"
        },
        "id": "OHZ_A65Y5bPL",
        "outputId": "065bf213-7056-43c3-efc6-4f24b7233e0c"
      },
      "execution_count": 105,
      "outputs": [
        {
          "output_type": "stream",
          "name": "stdout",
          "text": [
            "1\n"
          ]
        }
      ]
    },
    {
      "cell_type": "markdown",
      "source": [
        "6. Explain the concept of generators in Python and how they are defined.\n",
        "\n",
        "-->Special functions that use yield.\n",
        "\n",
        "Generate values one at a time, don’t store full data in memory.\n"
      ],
      "metadata": {
        "id": "gUK7T7265TAd"
      }
    },
    {
      "cell_type": "code",
      "source": [
        "#Example:\n",
        "\n",
        "def gen_nums():\n",
        "    for i in range(3):\n",
        "        yield i\n",
        "\n",
        "for x in gen_nums():\n",
        "    print(x)"
      ],
      "metadata": {
        "colab": {
          "base_uri": "https://localhost:8080/"
        },
        "id": "2i9tgxcJ5Uoi",
        "outputId": "1c6df1ee-ed8c-4eed-aa75-a267ed80e276"
      },
      "execution_count": 106,
      "outputs": [
        {
          "output_type": "stream",
          "name": "stdout",
          "text": [
            "0\n",
            "1\n",
            "2\n"
          ]
        }
      ]
    },
    {
      "cell_type": "markdown",
      "source": [
        "7.  What are the advantages of using generators over regular functions?\n",
        "\n",
        "-->Memory efficient (no full list stored).\n",
        "\n",
        "Lazy evaluation (values generated when needed).\n",
        "\n",
        "Easy to implement with yield.\n",
        "ers.\n"
      ],
      "metadata": {
        "id": "yWl9q2Df5NZR"
      }
    },
    {
      "cell_type": "code",
      "source": [
        "#example\n",
        "range(1000000)"
      ],
      "metadata": {
        "colab": {
          "base_uri": "https://localhost:8080/"
        },
        "id": "e_5iskOf5GQN",
        "outputId": "90ee2cdb-1449-444f-8c3b-07b89abe7c17"
      },
      "execution_count": 107,
      "outputs": [
        {
          "output_type": "execute_result",
          "data": {
            "text/plain": [
              "range(0, 1000000)"
            ]
          },
          "metadata": {},
          "execution_count": 107
        }
      ]
    },
    {
      "cell_type": "markdown",
      "source": [
        "8. What is a lambda function in Python and when is it typically used?\n",
        "\n",
        "-->Anonymous single-line functions.\n",
        "\n",
        "Used for short tasks like sorting, filtering.\n"
      ],
      "metadata": {
        "id": "mLz1TaGd47_h"
      }
    },
    {
      "cell_type": "code",
      "source": [
        "#Example:\n",
        "\n",
        "add = lambda a, b: a + b\n",
        "print(add(3,4))   # 7"
      ],
      "metadata": {
        "colab": {
          "base_uri": "https://localhost:8080/"
        },
        "id": "O-JIATPf49_4",
        "outputId": "b9268539-efb5-471a-a08a-ea181f0038e5"
      },
      "execution_count": 108,
      "outputs": [
        {
          "output_type": "stream",
          "name": "stdout",
          "text": [
            "7\n"
          ]
        }
      ]
    },
    {
      "cell_type": "markdown",
      "source": [
        "9. Explain the purpose and usage of the `map()` function in Python?\n",
        "\n",
        " -->Applies a function to each item in iterable."
      ],
      "metadata": {
        "id": "CmilMqSp4wT9"
      }
    },
    {
      "cell_type": "markdown",
      "source": [],
      "metadata": {
        "id": "INMyNlzl43Oe"
      }
    },
    {
      "cell_type": "markdown",
      "source": [],
      "metadata": {
        "id": "Q0BE1ef643fK"
      }
    },
    {
      "cell_type": "markdown",
      "source": [],
      "metadata": {
        "id": "jxCVMTKt43uJ"
      }
    },
    {
      "cell_type": "code",
      "source": [
        "#example\n",
        "nums = [1,2,3]\n",
        "squares = list(map(lambda x: x*x, nums))\n",
        "print(squares)   # [1, 4, 9]\n"
      ],
      "metadata": {
        "colab": {
          "base_uri": "https://localhost:8080/"
        },
        "id": "AxDW49vF4eo3",
        "outputId": "963dd279-7510-485a-9242-bf20d86626f5"
      },
      "execution_count": 109,
      "outputs": [
        {
          "output_type": "stream",
          "name": "stdout",
          "text": [
            "[1, 4, 9]\n"
          ]
        }
      ]
    },
    {
      "cell_type": "markdown",
      "source": [
        "10. What is the difference between `map()`, `reduce()`, and `filter()` functions in Python?\n",
        "\n",
        "-->map() → Applies function to all elements.\n",
        "\n",
        "filter() → Selects elements based on condition.\n",
        "\n",
        "reduce() → Combines all elements into single value."
      ],
      "metadata": {
        "id": "dVY7Zc6P4iTF"
      }
    },
    {
      "cell_type": "code",
      "source": [
        "#example\n",
        "from functools import reduce\n",
        "nums = [1,2,3,4]\n",
        "\n",
        "print(list(map(lambda x: x*2, nums)))\n",
        "print(list(filter(lambda x: x%2==0, nums)))\n",
        "print(reduce(lambda a,b: a+b, nums))\n"
      ],
      "metadata": {
        "colab": {
          "base_uri": "https://localhost:8080/"
        },
        "id": "8d0MTzDF4Yp9",
        "outputId": "ac268b41-2316-4df8-88ee-a052140e358e"
      },
      "execution_count": 110,
      "outputs": [
        {
          "output_type": "stream",
          "name": "stdout",
          "text": [
            "[2, 4, 6, 8]\n",
            "[2, 4]\n",
            "10\n"
          ]
        }
      ]
    },
    {
      "cell_type": "markdown",
      "source": [
        "![WhatsApp Image 2025-08-26 at 20.57.44_7757710c.jpg](data:image/jpeg;base64,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)"
      ],
      "metadata": {
        "id": "JvArzOM__zIk"
      }
    },
    {
      "cell_type": "markdown",
      "source": [
        "####practical"
      ],
      "metadata": {
        "id": "X074YNrb5BhE"
      }
    },
    {
      "cell_type": "code",
      "source": [
        "#1.Write a Python function that takes a list of numbers as input and returns the sum of all even numbers in the list.\n",
        "def sum_even(nums):\n",
        "    return sum([n for n in nums if n % 2 == 0])\n",
        "\n",
        "print(sum_even([1,2,3,4,6]))\n"
      ],
      "metadata": {
        "colab": {
          "base_uri": "https://localhost:8080/"
        },
        "id": "gyx5TeeT3nR5",
        "outputId": "1e278e47-a2dc-4c3e-961b-f1852e4228c1"
      },
      "execution_count": 111,
      "outputs": [
        {
          "output_type": "stream",
          "name": "stdout",
          "text": [
            "12\n"
          ]
        }
      ]
    },
    {
      "cell_type": "code",
      "source": [
        "#2. Create a Python function that accepts a string and returns the reverse of that string.\n",
        "def reverse_string(s):\n",
        "    return s[::-1]\n",
        "\n",
        "print(reverse_string(\"hello\"))\n"
      ],
      "metadata": {
        "colab": {
          "base_uri": "https://localhost:8080/"
        },
        "id": "zj4siU7c3sJE",
        "outputId": "b93c7b92-072a-4ee5-d2e6-d71a8ec37950"
      },
      "execution_count": 112,
      "outputs": [
        {
          "output_type": "stream",
          "name": "stdout",
          "text": [
            "olleh\n"
          ]
        }
      ]
    },
    {
      "cell_type": "code",
      "source": [
        "#3.. Implement a Python function that takes a list of integers and returns a new list containing the squares of each number.\n",
        "def squares(nums):\n",
        "    return [n**2 for n in nums]\n",
        "\n",
        "print(squares([1,2,3]))\n",
        "\n",
        ""
      ],
      "metadata": {
        "colab": {
          "base_uri": "https://localhost:8080/"
        },
        "id": "WrHx6msU3trJ",
        "outputId": "884c7316-0391-43ae-b94e-3e642b209f58"
      },
      "execution_count": 113,
      "outputs": [
        {
          "output_type": "stream",
          "name": "stdout",
          "text": [
            "[1, 4, 9]\n"
          ]
        }
      ]
    },
    {
      "cell_type": "code",
      "source": [
        "#4. Write a Python function that checks if a given number is prime or not from 1 to 200.\n",
        "def is_prime(n):\n",
        "    if n < 2: return False\n",
        "    for i in range(2,int(n**0.5)+1):\n",
        "        if n % i == 0: return False\n",
        "    return True\n",
        "\n",
        "primes = [x for x in range(1,201) if is_prime(x)]\n",
        "print(primes)\n",
        "\n",
        "\n",
        "\n",
        "\n"
      ],
      "metadata": {
        "colab": {
          "base_uri": "https://localhost:8080/"
        },
        "id": "PDgy1MPL3ulX",
        "outputId": "cb49e4e7-fe50-49b1-eb19-7d0f54fcfaa3"
      },
      "execution_count": 114,
      "outputs": [
        {
          "output_type": "stream",
          "name": "stdout",
          "text": [
            "[2, 3, 5, 7, 11, 13, 17, 19, 23, 29, 31, 37, 41, 43, 47, 53, 59, 61, 67, 71, 73, 79, 83, 89, 97, 101, 103, 107, 109, 113, 127, 131, 137, 139, 149, 151, 157, 163, 167, 173, 179, 181, 191, 193, 197, 199]\n"
          ]
        }
      ]
    },
    {
      "cell_type": "code",
      "source": [
        "#5. Create an iterator class in Python that generates the Fibonacci sequence up to a specified number of terms.\n",
        "class Fibonacci:\n",
        "    def __init__(self, terms):\n",
        "        self.terms = terms\n",
        "        self.a, self.b = 0, 1\n",
        "        self.count = 0\n",
        "\n",
        "    def __iter__(self):\n",
        "        return self\n",
        "\n",
        "    def __next__(self):\n",
        "        if self.count < self.terms:\n",
        "            value = self.a\n",
        "            self.a, self.b = self.b, self.a + self.b\n",
        "            self.count += 1\n",
        "            return value\n",
        "        else:\n",
        "            raise StopIteration\n",
        "\n",
        "for num in Fibonacci(10):\n",
        "    print(num, end=\" \")\n",
        "\n",
        "\n"
      ],
      "metadata": {
        "colab": {
          "base_uri": "https://localhost:8080/"
        },
        "id": "agSTmFMe3vg-",
        "outputId": "ac0c979d-9874-41dd-9c35-2a103b8528cd"
      },
      "execution_count": 115,
      "outputs": [
        {
          "output_type": "stream",
          "name": "stdout",
          "text": [
            "0 1 1 2 3 5 8 13 21 34 "
          ]
        }
      ]
    },
    {
      "cell_type": "code",
      "source": [
        "#6. Write a generator function in Python that yields the powers of 2 up to a given exponent.\n",
        "def powers_of_two(n):\n",
        "    for i in range(n+1):\n",
        "        yield 2**i\n",
        "\n",
        "for val in powers_of_two(5):\n",
        "    print(val)\n",
        "\n",
        "\n"
      ],
      "metadata": {
        "colab": {
          "base_uri": "https://localhost:8080/"
        },
        "id": "5UfvL7DR3wPv",
        "outputId": "441e738c-3ff6-47a1-e7e2-36244d5627a5"
      },
      "execution_count": 116,
      "outputs": [
        {
          "output_type": "stream",
          "name": "stdout",
          "text": [
            "1\n",
            "2\n",
            "4\n",
            "8\n",
            "16\n",
            "32\n"
          ]
        }
      ]
    },
    {
      "cell_type": "code",
      "source": [
        "#7.Implement a generator function that reads a file line by line and yields each line as a string.\n",
        "\n",
        "def read_file(filename):\n",
        "    with open(filename) as f:\n",
        "        for line in f:\n",
        "            yield line.strip()\n",
        "\n",
        "for line in read_file(\"sample.txt\"):\n",
        "    print(line)\n"
      ],
      "metadata": {
        "colab": {
          "base_uri": "https://localhost:8080/"
        },
        "id": "88G2qdUZ3xQp",
        "outputId": "568e0219-6623-45c5-bcc6-121ea0652549"
      },
      "execution_count": 117,
      "outputs": [
        {
          "output_type": "stream",
          "name": "stdout",
          "text": [
            "This is line 1\n",
            "This is line 2\n",
            "This is line 3\n"
          ]
        }
      ]
    },
    {
      "cell_type": "code",
      "source": [
        "#8. Use a lambda function in Python to sort a list of tuples based on the second element of each tuple.\n",
        "pairs = [(1,5),(2,1),(3,4)]\n",
        "sorted_pairs = sorted(pairs, key=lambda x: x[1])\n",
        "print(sorted_pairs)\n"
      ],
      "metadata": {
        "colab": {
          "base_uri": "https://localhost:8080/"
        },
        "id": "ZCb9nFip3yFJ",
        "outputId": "7375e6c5-a55b-4761-ee5a-8cea1e7b7d0c"
      },
      "execution_count": 118,
      "outputs": [
        {
          "output_type": "stream",
          "name": "stdout",
          "text": [
            "[(2, 1), (3, 4), (1, 5)]\n"
          ]
        }
      ]
    },
    {
      "cell_type": "code",
      "source": [
        "#9. Write a Python program that uses `map()` to convert a list of temperatures from Celsius to Fahrenheit.\n",
        "temps_c = [0,20,30,40]\n",
        "temps_f = list(map(lambda c: (c*9/5)+32, temps_c))\n",
        "print(temps_f)\n",
        "\n"
      ],
      "metadata": {
        "colab": {
          "base_uri": "https://localhost:8080/"
        },
        "id": "IExcN24T3y6d",
        "outputId": "ef0d88ed-e584-4412-f39f-49284bbdb8b8"
      },
      "execution_count": 119,
      "outputs": [
        {
          "output_type": "stream",
          "name": "stdout",
          "text": [
            "[32.0, 68.0, 86.0, 104.0]\n"
          ]
        }
      ]
    },
    {
      "cell_type": "code",
      "source": [
        "#10. Create a Python program that uses `filter()` to remove all the vowels from a given string.\n",
        "def remove_vowels(s):\n",
        "    return \"\".join(filter(lambda ch: ch.lower() not in \"aeiou\", s))\n",
        "\n",
        "print(remove_vowels(\"Hello World\"))\n"
      ],
      "metadata": {
        "colab": {
          "base_uri": "https://localhost:8080/"
        },
        "id": "R68rKc0t30XD",
        "outputId": "19a30e0c-a56f-49dd-fcfd-bb741a581fcb"
      },
      "execution_count": 120,
      "outputs": [
        {
          "output_type": "stream",
          "name": "stdout",
          "text": [
            "Hll Wrld\n"
          ]
        }
      ]
    },
    {
      "cell_type": "code",
      "source": [
        "#11.\n",
        "orders = [\n",
        "    [34587, \"Learning Python, Mark Lutz\", 4, 40.95],\n",
        "    [98762, \"Programming Python, Mark Lutz\", 5, 56.80],\n",
        "    [77226, \"Head First Python, Paul Barry\", 3, 32.95],\n",
        "    [88112, \"Einführung in Python3, Bernd Klein\", 3, 24.99]\n",
        "]\n",
        "\n",
        "\n",
        "def calculate_total(order):\n",
        "    order_number, _, quantity, price = order\n",
        "    total = quantity * price\n",
        "    if total < 100:\n",
        "        total += 10\n",
        "    return (order_number, round(total, 2))\n",
        "\n",
        "\n",
        "result = list(map(calculate_total, orders))\n",
        "\n",
        "print(result)\n"
      ],
      "metadata": {
        "colab": {
          "base_uri": "https://localhost:8080/"
        },
        "id": "fusbUSr-9A6o",
        "outputId": "8c07cb11-3067-4e62-bad7-bf08ef1bf97a"
      },
      "execution_count": 121,
      "outputs": [
        {
          "output_type": "stream",
          "name": "stdout",
          "text": [
            "[(34587, 163.8), (98762, 284.0), (77226, 108.85), (88112, 84.97)]\n"
          ]
        }
      ]
    },
    {
      "cell_type": "code",
      "metadata": {
        "colab": {
          "base_uri": "https://localhost:8080/"
        },
        "id": "751101aa",
        "outputId": "773fafee-91db-4814-e31b-2c91309d9b15"
      },
      "source": [
        "#11.\n",
        "orders = [\n",
        "    [34587, \"Learning Python, Mark Lutz\", 4, 40.95],\n",
        "    [98762, \"Programming Python, Mark Lutz\", 5, 56.80],\n",
        "    [77226, \"Head First Python, Paul Barry\", 3, 32.95],\n",
        "    [88112, \"Einführung in Python3, Bernd Klein\", 3, 24.99]\n",
        "]\n",
        "\n",
        "\n",
        "result = list(map(lambda x: (x[0], x[2]*x[3] if x[2]*x[3] >= 100 else x[2]*x[3] + 10), orders))\n",
        "\n",
        "print(result)\n"
      ],
      "execution_count": 122,
      "outputs": [
        {
          "output_type": "stream",
          "name": "stdout",
          "text": [
            "[(34587, 163.8), (98762, 284.0), (77226, 108.85000000000001), (88112, 84.97)]\n"
          ]
        }
      ]
    }
  ]
}